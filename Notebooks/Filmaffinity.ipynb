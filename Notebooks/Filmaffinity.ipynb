{
 "cells": [
  {
   "cell_type": "code",
   "execution_count": 1,
   "id": "ae0c4e4c",
   "metadata": {},
   "outputs": [],
   "source": [
    "import pandas as pd\n",
    "import requests\n",
    "import bs4  \n",
    "import re"
   ]
  },
  {
   "cell_type": "code",
   "execution_count": 2,
   "id": "72ba7d9e",
   "metadata": {},
   "outputs": [
    {
     "name": "stdout",
     "output_type": "stream",
     "text": [
      "Status code is: 200\n",
      "<class 'bytes'>\n"
     ]
    }
   ],
   "source": [
    "headers = {'user-agent': 'Mozilla/5.0 (Windows NT 6.1; Win64; x64; rv:47.0) Gecko/20100101 Firefox/47.0'}\n",
    "\n",
    "url = 'https://www.filmaffinity.com/es/topgen.php?genres=&chv=0&orderby=rc&movietype=movie%7C&country=&fromyear=1874&toyear=2022&ratingcount=0&runtimemin=0&runtimemax=4&platforms%5B%5D=8&platforms%5B%5D=119&platforms%5B%5D=384'\n",
    "response = requests.get(url, headers=headers)\n",
    "html = response.content\n",
    "print(f'Status code is: {response.status_code}')\n",
    "print(type(html))\n"
   ]
  },
  {
   "cell_type": "code",
   "execution_count": 3,
   "id": "fd97dd7b",
   "metadata": {},
   "outputs": [
    {
     "data": {
      "text/plain": [
       "b'<!DOCTYPE html>\\n<html lang=\"es\">\\n<head>\\n<title>Top Filmaffinity: las mejores pel\\xc3\\xadculas y series de la historia por pa\\xc3\\xadses - a\\xc3\\xb1os - g\\xc3\\xa9nero - FilmAffinity</title>\\n<meta charset=\"UTF-8\">\\n<meta name=\"description\" content=\"Pel\\xc3\\xadculas de Netflix, Amazon Prime Video y HBO Max, de\">\\n<meta property=\"og:site_name\" content=\"FilmAffinity\">\\n<meta name=\"twitter:site\" value=\"@Filmaffinity\" >\\n<meta property=\"og:url\" content=\"https://www.filmaffinity.com/es/topgen.php?genres=&chv=0&orderby=rc&movietype=movie%7C&country=&fromyear=1874&toyear=2022&ratingcount=0&runtimemin=0&runtimemax=4&platforms%5B%5D=8&platforms%5B%5D=119&platforms%5B%5D=384\" />\\n<meta property=\"og:title\" content=\"FilmAffinity\" />\\n<meta property=\"og:description\" content=\"Pel\\xc3\\xadculas de Netflix, Amazon Prime Video y HBO Max, de \" />\\n<meta property=\"og:image\" content=\"\" />\\n<link rel=\"canonical\" href=\"http://www.filmaffinity.com/es/topgen.php?genres=&chv=0&orderby=rc&movietype=movie%7C&country=&fromyear=1874&toyear=2022&ratingcount=0&runtimemin=0&runtimemax=4&platforms%5B%5D=8&platforms%5B%5D=119&platforms%5B%5D=384\">\\n<link rel=\"alternate\" media=\"only screen and (max-width: 640px)\" href=\"https://m.filmaffinity.com/es/topgen.php?genres=&chv=0&orderby=rc&movietype=movie%7C&country=&fromyear=1874&toyear=2022&ratingcount=0&runtimemin=0&runtimemax=4&platforms%5B%5D=8&platforms%5B%5D=119&platforms%5B%5D=384\">\\n<link rel=\"icon\" type=\"image/png\" href=\"/favicon.png\">\\n<link href=\"/style/bootstrap/fa-theme-bootstrap.1621249871.css\" rel=\"stylesheet\" type=\"text/css\">\\n<link href=\"/style/jquery/bootstrapselect/bootstrap-select.min.1621248810.css\" rel=\"stylesheet\" type=\"text/css\">\\n<link href=\"/style/jquery/slider/bootstrap-slider.min.1631702791.css\" rel=\"stylesheet\" type=\"text/css\">\\n<link href=\"/style/jquery/scrolltabs/jquery.scrolling-tabs.min.1626695983.css\" rel=\"stylesheet\" type=\"text/css\">\\n<link href=\"/style/movies-list.1641380307.css\" rel=\"stylesheet\" type=\"text/css\">\\n<link href=\"/style/magic-check.min.1539096291.css\" rel=\"stylesheet\" type=\"text/css\">\\n<link href=\"/style/soulsmstop.1643123159.css\" rel=\"stylesheet\" type=\"text/css\">\\n<link href=\"/style/jquery/jqvmap/jqvmap.min.1561450861.css\" rel=\"stylesheet\" type=\"text/css\">\\n<link href=\"/style/main3.1650623102.css\" rel=\"stylesheet\" type=\"text/css\">\\n<link href=\"/style/moviecards3.1650624469.css\" rel=\"stylesheet\" type=\"text/css\">\\n<link href=\"/style/fa-awesome.1539096291.css\" rel=\"stylesheet\" type=\"text/css\">\\n<link href=\"/style/font-awesome.5.11.1.min.1579174691.css\" rel=\"stylesheet\" type=\"text/css\">\\n<link href=\"/style/fa-icons.1582288477.css\" rel=\"stylesheet\" type=\"text/css\">\\n<link href=\"/style/jquery/autocomplete/easy-autocomplete.min.1585727670.css\" rel=\"stylesheet\" type=\"text/css\">\\n<link href=\"/style/jquery/autocomplete/easy-autocomplete.themes.min.1585727670.css\" rel=\"stylesheet\" type=\"text/css\">\\n<script type=\"text/javascript\" src=\"/js/local_es.1539096293.js\"></script>\\n<script type=\"text/javascript\" src=\"/js/jquery/jquery-3.1.0.min.1539096302.js\"></script>\\n<script type=\"text/javascript\" src=\"/js/jquery/jquery-migrate-1.4.1.min.1539096302.js\"></script>\\n<script type=\"text/javascript\" src=\"/js/popper.min.1585217033.js\"></script>\\n<script type=\"text/javascript\" src=\"/js/bootstrap/bootstrap.min.4.1621259127.js\"></script>\\n<script type=\"text/javascript\" src=\"/js/jquery/plugin/bootstrapselect/bootstrap-select.min.1621248343.js\"></script>\\n<script type=\"text/javascript\" src=\"/js/jquery/plugin/slider/bootstrap-slider.min.1631702815.js\"></script>\\n<script type=\"text/javascript\" src=\"/js/jquery/plugin/scrolltabs/jquery.scrolling-tabs.min.1626695959.js\"></script>\\n<script type=\"text/javascript\" src=\"/js/jquery/plugin/jqvmap/jquery.vmap.min.1561450834.js\"></script>\\n<script type=\"text/javascript\" src=\"/js/jquery/plugin/jqvmap/jquery.vmap.world.1561450836.js\"></script>\\n<script type=\"text/javascript\" src=\"/js/crc32.1539096293.js\"></script>\\n<script type=\"text/javascript\" src=\"/js/translate-context.1539096293.js\"></script>\\n<script type=\"text/javascript\" src=\"/js/locale/texts-es_ES.1645543354.js\"></script>\\n<script type=\"text/javascript\" src=\"/js/jquery/plugin/jquery.cookie.1539096308.js\"></script>\\n<script type=\"text/javascript\" src=\"/js/ads.1539096293.js\"></script>\\n<script type=\"text/javascript\" src=\"/js/main.1644579650.js\"></script>\\n<script type=\"text/javascript\" src=\"/js/pagetop.1621520988.js\"></script>\\n<script type=\"text/javascript\" src=\"/js/z-index-fix.1539096292.js\"></script>\\n<script type=\"text/javascript\" src=\"/js/jquery/plugin/lazysizes/lazysizes.min.1602068375.js\"></script>\\n<script type=\"text/javascript\" src=\"/js/fa-lists-tip.1539096292.js\"></script>\\n<script type=\"text/javascript\" src=\"/js/hide-qt.1584456412.js\"></script>\\n<script type=\"text/javascript\" src=\"/js/jquery/plugin/autocomplete/jquery.easy-autocomplete.1643901885.js\"></script>\\n<script type=\"text/javascript\" src=\"/js/jquery/plugin/autocomplete/fa-autocomplete.1602676109.js\"></script>\\n\\n<link rel=\"alternate\" href=\"https://www.filmaffinity.com/es/topgen.php?genres=&chv=0&orderby=rc&movietype=movie%7C&country=&fromyear=1874&toyear=2022&ratingcount=0&runtimemin=0&runtimemax=4&platforms%5B%5D=8&platforms%5B%5D=119&platforms%5B%5D=384\" hreflang=\"es\">\\n<link rel=\"alternate\" href=\"https://www.filmaffinity.com/en/topgen.php?genres=&chv=0&orderby=rc&movietype=movie%7C&country=&fromyear=1874&toyear=2022&ratingcount=0&runtimemin=0&runtimemax=4&platforms%5B%5D=8&platforms%5B%5D=119&platforms%5B%5D=384\" hreflang=\"en\">\\n<link rel=\"alternate\" href=\"https://www.filmaffinity.com/mx/topgen.php?genres=&chv=0&orderby=rc&movietype=movie%7C&country=&fromyear=1874&toyear=2022&ratingcount=0&runtimemin=0&runtimemax=4&platforms%5B%5D=8&platforms%5B%5D=119&platforms%5B%5D=384\" hreflang=\"es-MX\">\\n<link rel=\"alternate\" href=\"https://www.filmaffinity.com/ar/topgen.php?genres=&chv=0&orderby=rc&movietype=movie%7C&country=&fromyear=1874&toyear=2022&ratingcount=0&runtimemin=0&runtimemax=4&platforms%5B%5D=8&platforms%5B%5D=119&platforms%5B%5D=384\" hreflang=\"es-AR\">\\n<link rel=\"alternate\" href=\"https://www.filmaffinity.com/cl/topgen.php?genres=&chv=0&orderby=rc&movietype=movie%7C&country=&fromyear=1874&toyear=2022&ratingcount=0&runtimemin=0&runtimemax=4&platforms%5B%5D=8&platforms%5B%5D=119&platforms%5B%5D=384\" hreflang=\"es-CL\">\\n<link rel=\"alternate\" href=\"https://www.filmaffinity.com/co/topgen.php?genres=&chv=0&orderby=rc&movietype=movie%7C&country=&fromyear=1874&toyear=2022&ratingcount=0&runtimemin=0&runtimemax=4&platforms%5B%5D=8&platforms%5B%5D=119&platforms%5B%5D=384\" hreflang=\"es-CO\">\\n<link rel=\"alternate\" href=\"https://www.filmaffinity.com/uy/topgen.php?genres=&chv=0&orderby=rc&movietype=movie%7C&country=&fromyear=1874&toyear=2022&ratingcount=0&runtimemin=0&runtimemax=4&platforms%5B%5D=8&platforms%5B%5D=119&platforms%5B%5D=384\" hreflang=\"es-UY\">\\n<link rel=\"alternate\" href=\"https://www.filmaffinity.com/py/topgen.php?genres=&chv=0&orderby=rc&movietype=movie%7C&country=&fromyear=1874&toyear=2022&ratingcount=0&runtimemin=0&runtimemax=4&platforms%5B%5D=8&platforms%5B%5D=119&platforms%5B%5D=384\" hreflang=\"es-PY\">\\n<link rel=\"alternate\" href=\"https://www.filmaffinity.com/pe/topgen.php?genres=&chv=0&orderby=rc&movietype=movie%7C&country=&fromyear=1874&toyear=2022&ratingcount=0&runtimemin=0&runtimemax=4&platforms%5B%5D=8&platforms%5B%5D=119&platforms%5B%5D=384\" hreflang=\"es-PE\">\\n<link rel=\"alternate\" href=\"https://www.filmaffinity.com/ec/topgen.php?genres=&chv=0&orderby=rc&movietype=movie%7C&country=&fromyear=1874&toyear=2022&ratingcount=0&runtimemin=0&runtimemax=4&platforms%5B%5D=8&platforms%5B%5D=119&platforms%5B%5D=384\" hreflang=\"es-EC\">\\n<link rel=\"alternate\" href=\"https://www.filmaffinity.com/ve/topgen.php?genres=&chv=0&orderby=rc&movietype=movie%7C&country=&fromyear=1874&toyear=2022&ratingcount=0&runtimemin=0&runtimemax=4&platforms%5B%5D=8&platforms%5B%5D=119&platforms%5B%5D=384\" hreflang=\"es-VE\">\\n<link rel=\"alternate\" href=\"https://www.filmaffinity.com/cr/topgen.php?genres=&chv=0&orderby=rc&movietype=movie%7C&country=&fromyear=1874&toyear=2022&ratingcount=0&runtimemin=0&runtimemax=4&platforms%5B%5D=8&platforms%5B%5D=119&platforms%5B%5D=384\" hreflang=\"es-CR\">\\n<link rel=\"alternate\" href=\"https://www.filmaffinity.com/hn/topgen.php?genres=&chv=0&orderby=rc&movietype=movie%7C&country=&fromyear=1874&toyear=2022&ratingcount=0&runtimemin=0&runtimemax=4&platforms%5B%5D=8&platforms%5B%5D=119&platforms%5B%5D=384\" hreflang=\"\">\\n<link rel=\"alternate\" href=\"https://www.filmaffinity.com/gt/topgen.php?genres=&chv=0&orderby=rc&movietype=movie%7C&country=&fromyear=1874&toyear=2022&ratingcount=0&runtimemin=0&runtimemax=4&platforms%5B%5D=8&platforms%5B%5D=119&platforms%5B%5D=384\" hreflang=\"es-GT\">\\n<link rel=\"alternate\" href=\"https://www.filmaffinity.com/bo/topgen.php?genres=&chv=0&orderby=rc&movietype=movie%7C&country=&fromyear=1874&toyear=2022&ratingcount=0&runtimemin=0&runtimemax=4&platforms%5B%5D=8&platforms%5B%5D=119&platforms%5B%5D=384\" hreflang=\"es-BO\">\\n<link rel=\"alternate\" href=\"https://www.filmaffinity.com/us/topgen.php?genres=&chv=0&orderby=rc&movietype=movie%7C&country=&fromyear=1874&toyear=2022&ratingcount=0&runtimemin=0&runtimemax=4&platforms%5B%5D=8&platforms%5B%5D=119&platforms%5B%5D=384\" hreflang=\"en-US\">\\n<link rel=\"alternate\" href=\"https://www.filmaffinity.com/uk/topgen.php?genres=&chv=0&orderby=rc&movietype=movie%7C&country=&fromyear=1874&toyear=2022&ratingcount=0&runtimemin=0&runtimemax=4&platforms%5B%5D=8&platforms%5B%5D=119&platforms%5B%5D=384\" hreflang=\"en-GB\">\\n<link rel=\"alternate\" href=\"https://www.filmaffinity.com/ie/topgen.php?genres=&chv=0&orderby=rc&movietype=movie%7C&country=&fromyear=1874&toyear=2022&ratingcount=0&runtimemin=0&runtimemax=4&platforms%5B%5D=8&platforms%5B%5D=119&platforms%5B%5D=384\" hreflang=\"en-IE\">\\n<link rel=\"alternate\" href=\"https://www.filmaffinity.com/au/topgen.php?genres=&chv=0&orderby=rc&movietype=movie%7C&country=&fromyear=1874&toyear=2022&ratingcount=0&runtimemin=0&runtimemax=4&platforms%5B%5D=8&platforms%5B%5D=119&platforms%5B%5D=384\" hreflang=\"en-AU\">\\n<link rel=\"alternate\" href=\"https://www.filmaffinity.com/ca/topgen.php?genres=&chv=0&orderby=rc&movietype=movie%7C&country=&fromyear=1874&toyear=2022&ratingcount=0&runtimemin=0&runtimemax=4&platforms%5B%5D=8&platforms%5B%5D=119&platforms%5B%5D=384\" hreflang=\"en-CA\">\\n<!-- Quantcast Choice. Consent Manager Tag v2.0 (for TCF 2.0) -->\\n<script type=\"text/javascript\" async=true>\\n(function() {\\n  var host = \\'filmaffinity.com\\';\\n  var element = document.createElement(\\'script\\');\\n  var firstScript = document.getElementsByTagName(\\'script\\')[0];\\n  var url = \\'https://quantcast.mgr.consensu.org\\'\\n    .concat(\\'/choice/\\', \\'LBBrF-bdAtkuF\\', \\'/\\', host, \\'/choice.js\\')\\n  var uspTries = 0;\\n  var uspTriesLimit = 3;\\n  element.async = true;\\n  element.type = \\'text/javascript\\';\\n  element.src = url;\\n\\n  firstScript.parentNode.insertBefore(element, firstScript);\\n\\n  function makeStub() {\\n    var TCF_LOCATOR_NAME = \\'__tcfapiLocator\\';\\n    var queue = [];\\n    var win = window;\\n    var cmpFrame;\\n\\n    function addFrame() {\\n      var doc = win.document;\\n      var otherCMP = !!(win.frames[TCF_LOCATOR_NAME]);\\n\\n      if (!otherCMP) {\\n        if (doc.body) {\\n          var iframe = doc.createElement(\\'iframe\\');\\n\\n          iframe.style.cssText = \\'display:none\\';\\n          iframe.name = TCF_LOCATOR_NAME;\\n          doc.body.appendChild(iframe);\\n        } else {\\n          setTimeout(addFrame, 5);\\n        }\\n      }\\n      return !otherCMP;\\n    }\\n\\n    function tcfAPIHandler() {\\n      var gdprApplies;\\n      var args = arguments;\\n\\n      if (!args.length) {\\n        return queue;\\n      } else if (args[0] === \\'setGdprApplies\\') {\\n        if (\\n          args.length > 3 &&\\n          args[2] === 2 &&\\n          typeof args[3] === \\'boolean\\'\\n        ) {\\n          gdprApplies = args[3];\\n          if (typeof args[2] === \\'function\\') {\\n            args[2](\\'set\\', true);\\n          }\\n        }\\n      } else if (args[0] === \\'ping\\') {\\n        var retr = {\\n          gdprApplies: gdprApplies,\\n          cmpLoaded: false,\\n          cmpStatus: \\'stub\\'\\n        };\\n\\n        if (typeof args[2] === \\'function\\') {\\n          args[2](retr);\\n        }\\n      } else {\\n        queue.push(args);\\n      }\\n    }\\n\\n    function postMessageEventHandler(event) {\\n      var msgIsString = typeof event.data === \\'string\\';\\n      var json = {};\\n\\n      try {\\n        if (msgIsString) {\\n          json = JSON.parse(event.data);\\n        } else {\\n          json = event.data;\\n        }\\n      } catch (ignore) {}\\n\\n      var payload = json.__tcfapiCall;\\n\\n      if (payload) {\\n        window.__tcfapi(\\n          payload.command,\\n          payload.version,\\n          function(retValue, success) {\\n            var returnMsg = {\\n              __tcfapiReturn: {\\n                returnValue: retValue,\\n                success: success,\\n                callId: payload.callId\\n              }\\n            };\\n            if (msgIsString) {\\n              returnMsg = JSON.stringify(returnMsg);\\n            }\\n            if (event && event.source && event.source.postMessage) {\\n              event.source.postMessage(returnMsg, \\'*\\');\\n            }\\n          },\\n          payload.parameter\\n        );\\n      }\\n    }\\n\\n    while (win) {\\n      try {\\n        if (win.frames[TCF_LOCATOR_NAME]) {\\n          cmpFrame = win;\\n          break;\\n        }\\n      } catch (ignore) {}\\n\\n      if (win === window.top) {\\n        break;\\n      }\\n      win = win.parent;\\n    }\\n    if (!cmpFrame) {\\n      addFrame();\\n      win.__tcfapi = tcfAPIHandler;\\n      win.addEventListener(\\'message\\', postMessageEventHandler, false);\\n    }\\n  };\\n\\n  makeStub();\\n\\n  var uspStubFunction = function() {\\n    var arg = arguments;\\n    if (typeof window.__uspapi !== uspStubFunction) {\\n      setTimeout(function() {\\n        if (typeof window.__uspapi !== \\'undefined\\') {\\n          window.__uspapi.apply(window.__uspapi, arg);\\n        }\\n      }, 500);\\n    }\\n  };\\n\\n  var checkIfUspIsReady = function() {\\n    uspTries++;\\n    if (window.__uspapi === uspStubFunction && uspTries < uspTriesLimit) {\\n      console.warn(\\'USP is not accessible\\');\\n    } else {\\n      clearInterval(uspInterval);\\n    }\\n  };\\n\\n  if (typeof window.__uspapi === \\'undefined\\') {\\n    window.__uspapi = uspStubFunction;\\n    var uspInterval = setInterval(checkIfUspIsReady, 6000);\\n  }\\n})();\\n</script>\\n<!-- End Quantcast Choice. Consent Manager Tag v2.0 (for TCF 2.0) -->\\n\\n\\n<script>\\n    $(function(){\\n        sessPing(\"016263cf4377cc2d58d1769448fbf249673ebbc972\", 2400);\\n        var tcTexts = TranslateContext.getInstance(commonTextsJs);\\n    });\\n</script>\\n<script async=\\'async\\' src=\\'https://sc-devel.s3.eu-central-1.amazonaws.com/sc-tagmanager/sc_gpt_lstapc.js\\'></script>\\r\\n\\r\\n <script>\\r\\n\\r\\n        var googletag = googletag || {};\\r\\n\\r\\n        googletag.cmd = googletag.cmd || [];\\r\\n\\r\\n </script>\\r\\n\\r\\n <script src=\"https://s3.eu-central-1.amazonaws.com/sc-devel/Skins/SMCService.js\"></script>\\r\\n\\r\\n <script src=\"https://s3.eu-central-1.amazonaws.com/sc-devel/sc-tagmanager/filmaffinity.js\"></script>\\r\\n\\r\\n <script src=\"https://cdn.smartclip-services.com/v1/Storage-a482323/smartclip-services/HeaderBidding/js/SmartclipConfig.js\" async=\"async\"></script>\\r\\n<script>\\n  var _comscore = _comscore || [];\\n  _comscore.push({ c1: \"2\", c2: \"13181121\" });\\n  (function() {\\n    var s = document.createElement(\"script\"), el = document.getElementsByTagName(\"script\")[0]; s.async = true;\\n    s.src = (document.location.protocol == \"https:\" ? \"https://sb\" : \"http://b\") + \".scorecardresearch.com/beacon.js\";\\n    el.parentNode.insertBefore(s, el);\\n  })();\\n</script>\\n<noscript>\\n  <img src=\"http://b.scorecardresearch.com/p?c1=2&c2=13181121&cv=2.0&cj=1\" />\\n</noscript>\\n<script>$(function(){sendpv(\"4aa0a7580619518da6fe17a8c76b931c\");});</script>\\r\\n</head>\\n<body>\\n        <script>\\n          (function(i,s,o,g,r,a,m){i[\\'GoogleAnalyticsObject\\']=r;i[r]=i[r]||function(){\\n          (i[r].q=i[r].q||[]).push(arguments)},i[r].l=1*new Date();a=s.createElement(o),\\n          m=s.getElementsByTagName(o)[0];a.async=1;a.src=g;m.parentNode.insertBefore(a,m)\\n          })(window,document,\\'script\\',\\'//www.google-analytics.com/analytics.js\\',\\'ga\\');\\n          ga(\\'create\\', \\'UA-74155504-1\\', \\'auto\\');\\n          ga(\\'send\\', \\'pageview\\');\\n        </script>\\n<div id=\"page-header\">\\n    <div id=\"header-top\" >\\n        <div class=\"cpanel top-wrapper\">\\n            <div id=\"logo-container\">\\n                <a href=\"https://www.filmaffinity.com/es/main.html\">\\n                    <img alt=\"logo\" src=\"/images/logo4.png\">\\n                    <div class=\"logo-siteloc\">Espa\\xc3\\xb1a</div>\\n                </a>\\n            </div><!-- logo-container -->\\n\\n            <div id=\"topsearch\">\\n                <form action=\"https://www.filmaffinity.com/es/search.php\" method=\"get\" accept-charset=\"UTF-8\">\\n                    <input id=\"top-search-input\" type=\"text\" name=\"stext\" size=\"20\" value=\"\" tabindex=\"1\">\\n                        <i class=\"fas fa-times clear-search\"></i>\\n                        <label for=\"button-search\">\\n                            <i class=\"fas fa-search\"></i>\\n                        </label>\\n                        <input type=\"submit\" id=\"button-search\" value=\"&nbsp;\">\\n                </form>\\n                <div class=\"advsearch\"><a href=\"https://www.filmaffinity.com/es/advsearch.php\">B\\xc3\\xbasqueda avanzada <i class=\"fas fa-angle-double-right\"></i></a></div>\\n            </div><!-- topsearch -->\\n            <div id=\"user-login-container\">\\n                <div id=\"login-register\">\\n                    <a class=\"sign-in\" href=\"https://www.filmaffinity.com/es/login.php\"><strong>Iniciar sesi\\xc3\\xb3n</strong></a> / <a class=\"register\" href=\"https://www.filmaffinity.com/es/register.php\">Registrarse</a>\\n                </div>\\n\\n                <div class=\"user-menu-wr\">\\n<ul>\\n    <li>\\n        <a href=\"https://www.filmaffinity.com/es/userratings.php?user_id=\">\\n            <span class=\"ic-w\"><i class=\"fa fa-ratings-fa\"></i></span>\\n                Mis Votaciones        </a>\\n    </li>\\n    <li>\\n        <a href=\"https://www.filmaffinity.com/es/myreviews.php\">\\n            <span class=\"ic-w\"><i class=\"fa fa-reviews-fa\"></i></span>\\n            Cr\\xc3\\xadticas        </a>\\n    </li>\\n    <li>\\n        <a href=\"https://www.filmaffinity.com/es/mylists.php\">\\n            <span class=\"ic-w\"><i class=\"fa fa-list\"></i></span>\\n            Listas <span class=\"nbr-w\">New</span>\\n        </a>\\n    </li>\\n    <li>\\n        <a href=\"https://www.filmaffinity.com/es/myfriends.php\">\\n            <span class=\"ic-w\"><i class=\"fa fa fa-friends-fa\"></i></span>\\n            Amigos / Grupos        </a>\\n    </li>\\n    <li>\\n        <a href=\"https://www.filmaffinity.com/es/soulmates.php\">\\n            <span class=\"ic-w\"><i class=\"fa fa-soulmates-fa\"></i></span>\\n            Almas gemelas\\xe2\\x84\\xa2        </a>\\n    </li>\\n    <li>\\n        <a href=\"https://www.filmaffinity.com/es/smsrec.php\">\\n            <span class=\"ic-w\"><i class=\"fa fa-heart\"></i></span>\\n                Recomendaciones        </a>\\n    </li>\\n    <li class=\"user-prof-link\">\\n        <a href=\"https://www.filmaffinity.com/es/mydata.php\">\\n            <span class=\"ic-w\"><i class=\"fa fa-address-card-o\"></i></span>\\n                Datos personales        </a>\\n    </li>\\n        <li>\\n            <a href=\"https://www.filmaffinity.com/es/user-fav-theaters.php\">\\n                <span class=\"ic-w\"><i class=\"fa fa-ticket\"></i></span>\\n                Cines favoritos            </a>\\n        </li>\\n        <li>\\n            <a href=\"https://www.filmaffinity.com/es/tours.php\">\\n                <span class=\"ic-w\"><i class=\"fa fa-ratings-fa\"></i></span>\\n                Votar los tours            </a>\\n        </li>\\n        <li class=\"lg-out-li\">\\n            <a href=\"#\" class=\"sign-out\">\\n                Cerrar sesi\\xc3\\xb3n            </a>\\n        </li>\\n</ul>\\n                </div>\\n            </div><!-- user-login -container -->\\n        </div>\\n    </div>\\n    <div id=\"header-bottom\" >\\n        <div class=\"cpanel news-wrapper\">\\n\\n<ul id=\"awardsmenu\">\\n            <li ><a href=\"https://www.filmaffinity.com/es/category.php?id=latest_reviews\">\\xc3\\x9alt. cr\\xc3\\xadticas</a></li><li class=\"sep\">|</li>\\n            <li ><a href=\"https://www.filmaffinity'"
      ]
     },
     "execution_count": 3,
     "metadata": {},
     "output_type": "execute_result"
    }
   ],
   "source": [
    "html[:20000]"
   ]
  },
  {
   "cell_type": "code",
   "execution_count": 5,
   "id": "d0e31ace",
   "metadata": {},
   "outputs": [
    {
     "data": {
      "text/plain": [
       "{'a',\n",
       " 'body',\n",
       " 'br',\n",
       " 'button',\n",
       " 'div',\n",
       " 'form',\n",
       " 'h1',\n",
       " 'head',\n",
       " 'html',\n",
       " 'i',\n",
       " 'img',\n",
       " 'input',\n",
       " 'label',\n",
       " 'li',\n",
       " 'link',\n",
       " 'meta',\n",
       " 'noscript',\n",
       " 'option',\n",
       " 'p',\n",
       " 'script',\n",
       " 'select',\n",
       " 'span',\n",
       " 'strong',\n",
       " 'style',\n",
       " 'table',\n",
       " 'td',\n",
       " 'title',\n",
       " 'tr',\n",
       " 'ul'}"
      ]
     },
     "execution_count": 5,
     "metadata": {},
     "output_type": "execute_result"
    }
   ],
   "source": [
    "parsed_html = bs4.BeautifulSoup(html, \"html.parser\")\n",
    "parsed_tags = set([tag.name for tag in parsed_html.find_all(True)])\n",
    "parsed_tags"
   ]
  },
  {
   "cell_type": "code",
   "execution_count": 23,
   "id": "a2054828",
   "metadata": {},
   "outputs": [
    {
     "name": "stdout",
     "output_type": "stream",
     "text": [
      "[]\n"
     ]
    },
    {
     "data": {
      "text/plain": [
       "[]"
      ]
     },
     "execution_count": 23,
     "metadata": {},
     "output_type": "execute_result"
    }
   ],
   "source": [
    "element = parsed_html.find_all(\"a\", {'title'})\n",
    "print(element[0:])\n",
    "links = [tag.attrs for tag in element]\n",
    "links"
   ]
  },
  {
   "cell_type": "code",
   "execution_count": null,
   "id": "2faeb8b0",
   "metadata": {},
   "outputs": [],
   "source": []
  },
  {
   "cell_type": "code",
   "execution_count": null,
   "id": "862bd449",
   "metadata": {},
   "outputs": [],
   "source": []
  }
 ],
 "metadata": {
  "kernelspec": {
   "display_name": "Python [conda env:ironhack]",
   "language": "python",
   "name": "conda-env-ironhack-py"
  },
  "language_info": {
   "codemirror_mode": {
    "name": "ipython",
    "version": 3
   },
   "file_extension": ".py",
   "mimetype": "text/x-python",
   "name": "python",
   "nbconvert_exporter": "python",
   "pygments_lexer": "ipython3",
   "version": "3.7.11"
  }
 },
 "nbformat": 4,
 "nbformat_minor": 5
}
